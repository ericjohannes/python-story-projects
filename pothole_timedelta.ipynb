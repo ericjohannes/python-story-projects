{
 "cells": [
  {
   "cell_type": "markdown",
   "metadata": {},
   "source": [
    "This script cleans up some data on pothole calls from Bloomington's 311 service\n",
    "It also finds the difference between when the call was reported and when it was closed\n",
    "it saves that difference as a timedelta object and as seconds in int form\n",
    "then the script exports the differences calculated along with location data and call number all to a csv"
   ]
  },
  {
   "cell_type": "code",
   "execution_count": 1,
   "metadata": {
    "collapsed": true
   },
   "outputs": [],
   "source": [
    "import pandas as pd\n",
    "import numpy as np\n",
    "import matplotlib.pyplot as plt"
   ]
  },
  {
   "cell_type": "code",
   "execution_count": 2,
   "metadata": {
    "collapsed": true
   },
   "outputs": [],
   "source": [
    "pothole_df = pd.read_csv(\"pothole_data.csv\")"
   ]
  },
  {
   "cell_type": "code",
   "execution_count": 4,
   "metadata": {},
   "outputs": [
    {
     "data": {
      "text/plain": [
       "1833"
      ]
     },
     "execution_count": 4,
     "metadata": {},
     "output_type": "execute_result"
    }
   ],
   "source": [
    "len(pothole_df)"
   ]
  },
  {
   "cell_type": "code",
   "execution_count": 5,
   "metadata": {},
   "outputs": [
    {
     "data": {
      "text/plain": [
       "['service_request_id',\n",
       " 'requested_datetime',\n",
       " 'updated_datetime',\n",
       " 'closed_date',\n",
       " 'status',\n",
       " 'source',\n",
       " 'service_name',\n",
       " 'service_subtype',\n",
       " 'description',\n",
       " 'agency_responsible',\n",
       " 'address',\n",
       " 'lat',\n",
       " 'long']"
      ]
     },
     "execution_count": 5,
     "metadata": {},
     "output_type": "execute_result"
    }
   ],
   "source": [
    "list(pothole_df)"
   ]
  },
  {
   "cell_type": "code",
   "execution_count": 8,
   "metadata": {},
   "outputs": [],
   "source": [
    "# uncoment to check original form, is uglly\n",
    "#pothole_df.requested_datetime"
   ]
  },
  {
   "cell_type": "code",
   "execution_count": 9,
   "metadata": {},
   "outputs": [],
   "source": [
    "pothole_df[\"clean_request_dt\"] = pd.to_datetime(pothole_df.requested_datetime)"
   ]
  },
  {
   "cell_type": "code",
   "execution_count": 13,
   "metadata": {
    "collapsed": true
   },
   "outputs": [],
   "source": [
    "pothole_df[\"clean_closed_dt\"] = pd.to_datetime(pothole_df.closed_date)\n",
    "pothole_df[\"clean_updated_dt\"] = pd.to_datetime(pothole_df.updated_datetime)"
   ]
  },
  {
   "cell_type": "code",
   "execution_count": 14,
   "metadata": {},
   "outputs": [
    {
     "data": {
      "text/plain": [
       "['service_request_id',\n",
       " 'requested_datetime',\n",
       " 'updated_datetime',\n",
       " 'closed_date',\n",
       " 'status',\n",
       " 'source',\n",
       " 'service_name',\n",
       " 'service_subtype',\n",
       " 'description',\n",
       " 'agency_responsible',\n",
       " 'address',\n",
       " 'lat',\n",
       " 'long',\n",
       " 'clean_request_dt',\n",
       " 'clean_closed_dt',\n",
       " 'clean_updated_dt']"
      ]
     },
     "execution_count": 14,
     "metadata": {},
     "output_type": "execute_result"
    }
   ],
   "source": [
    "list(pothole_df)"
   ]
  },
  {
   "cell_type": "code",
   "execution_count": 16,
   "metadata": {},
   "outputs": [],
   "source": [
    "# checked again, looks good\n",
    "#pothole_df.head()"
   ]
  },
  {
   "cell_type": "code",
   "execution_count": 19,
   "metadata": {},
   "outputs": [],
   "source": [
    "# creates a time delta column, but it is of type timedelta. not sure if other programs will understand\n",
    "pothole_df[\"time_dif\"] = pothole_df.clean_closed_dt - pothole_df.clean_request_dt"
   ]
  },
  {
   "cell_type": "code",
   "execution_count": 32,
   "metadata": {},
   "outputs": [
    {
     "data": {
      "text/plain": [
       "0      0 days 00:00:00\n",
       "1      0 days 00:00:00\n",
       "2      0 days 00:00:00\n",
       "3      0 days 00:00:00\n",
       "4      0 days 00:00:00\n",
       "5      0 days 00:00:00\n",
       "6      0 days 00:00:00\n",
       "7      0 days 00:00:00\n",
       "8      0 days 00:00:00\n",
       "9      0 days 00:00:00\n",
       "10     0 days 19:23:25\n",
       "11     0 days 00:00:00\n",
       "12     0 days 00:00:00\n",
       "13     0 days 00:00:00\n",
       "14     0 days 00:00:00\n",
       "15     0 days 00:00:00\n",
       "16     0 days 00:00:00\n",
       "17     0 days 00:00:00\n",
       "18     0 days 00:00:00\n",
       "19     0 days 00:00:00\n",
       "20     0 days 00:00:00\n",
       "21     0 days 00:00:00\n",
       "22     0 days 00:00:00\n",
       "23     0 days 00:00:00\n",
       "24     0 days 00:00:00\n",
       "25     0 days 00:00:00\n",
       "26     0 days 00:00:00\n",
       "27     0 days 00:00:00\n",
       "28     0 days 00:00:00\n",
       "29     0 days 00:00:00\n",
       "             ...      \n",
       "1803   0 days 19:37:43\n",
       "1804   0 days 19:42:51\n",
       "1805   0 days 12:01:30\n",
       "1806   7 days 10:13:13\n",
       "1807   0 days 00:20:29\n",
       "1808   1 days 23:21:27\n",
       "1809   1 days 23:19:43\n",
       "1810   0 days 22:03:31\n",
       "1811   0 days 00:20:18\n",
       "1812   1 days 18:36:57\n",
       "1813   0 days 20:17:49\n",
       "1814   0 days 12:32:26\n",
       "1815   0 days 13:50:10\n",
       "1816   0 days 01:53:41\n",
       "1817   0 days 01:00:15\n",
       "1818   0 days 02:05:25\n",
       "1819   0 days 00:48:30\n",
       "1820   0 days 00:22:44\n",
       "1821   5 days 08:35:37\n",
       "1822   0 days 05:49:17\n",
       "1823   0 days 00:02:05\n",
       "1824   0 days 19:13:22\n",
       "1825   0 days 10:19:44\n",
       "1826   3 days 17:19:36\n",
       "1827   3 days 11:02:56\n",
       "1828   3 days 10:39:20\n",
       "1829   0 days 11:06:08\n",
       "1830   2 days 20:22:39\n",
       "1831   0 days 00:00:48\n",
       "1832   0 days 00:55:50\n",
       "Name: time_dif, Length: 1833, dtype: timedelta64[ns]"
      ]
     },
     "execution_count": 32,
     "metadata": {},
     "output_type": "execute_result"
    }
   ],
   "source": [
    "pothole_df.time_dif"
   ]
  },
  {
   "cell_type": "code",
   "execution_count": 20,
   "metadata": {},
   "outputs": [
    {
     "data": {
      "text/plain": [
       "Timedelta('11 days 17:41:15.331696')"
      ]
     },
     "execution_count": 20,
     "metadata": {},
     "output_type": "execute_result"
    }
   ],
   "source": [
    "pothole_df.time_dif.mean() # looks meaningful"
   ]
  },
  {
   "cell_type": "code",
   "execution_count": 29,
   "metadata": {},
   "outputs": [],
   "source": [
    "# make a back up of time delta in seconds, an int just i case\n",
    "pothole_df[\"response_seconds\"] = pothole_df.time_dif.dt.seconds"
   ]
  },
  {
   "cell_type": "code",
   "execution_count": 31,
   "metadata": {},
   "outputs": [
    {
     "data": {
      "text/plain": [
       "0           0\n",
       "1           0\n",
       "2           0\n",
       "3           0\n",
       "4           0\n",
       "5           0\n",
       "6           0\n",
       "7           0\n",
       "8           0\n",
       "9           0\n",
       "10      69805\n",
       "11          0\n",
       "12          0\n",
       "13          0\n",
       "14          0\n",
       "15          0\n",
       "16          0\n",
       "17          0\n",
       "18          0\n",
       "19          0\n",
       "20          0\n",
       "21          0\n",
       "22          0\n",
       "23          0\n",
       "24          0\n",
       "25          0\n",
       "26          0\n",
       "27          0\n",
       "28          0\n",
       "29          0\n",
       "        ...  \n",
       "1803    70663\n",
       "1804    70971\n",
       "1805    43290\n",
       "1806    36793\n",
       "1807     1229\n",
       "1808    84087\n",
       "1809    83983\n",
       "1810    79411\n",
       "1811     1218\n",
       "1812    67017\n",
       "1813    73069\n",
       "1814    45146\n",
       "1815    49810\n",
       "1816     6821\n",
       "1817     3615\n",
       "1818     7525\n",
       "1819     2910\n",
       "1820     1364\n",
       "1821    30937\n",
       "1822    20957\n",
       "1823      125\n",
       "1824    69202\n",
       "1825    37184\n",
       "1826    62376\n",
       "1827    39776\n",
       "1828    38360\n",
       "1829    39968\n",
       "1830    73359\n",
       "1831       48\n",
       "1832     3350\n",
       "Name: time_dif, Length: 1833, dtype: int64"
      ]
     },
     "execution_count": 31,
     "metadata": {},
     "output_type": "execute_result"
    }
   ],
   "source": [
    "pothole_df.response_seconds"
   ]
  },
  {
   "cell_type": "code",
   "execution_count": 33,
   "metadata": {},
   "outputs": [
    {
     "data": {
      "text/plain": [
       "['service_request_id',\n",
       " 'requested_datetime',\n",
       " 'updated_datetime',\n",
       " 'closed_date',\n",
       " 'status',\n",
       " 'source',\n",
       " 'service_name',\n",
       " 'service_subtype',\n",
       " 'description',\n",
       " 'agency_responsible',\n",
       " 'address',\n",
       " 'lat',\n",
       " 'long',\n",
       " 'clean_request_dt',\n",
       " 'clean_closed_dt',\n",
       " 'clean_updated_dt',\n",
       " 'time_dif',\n",
       " 'response_seconds']"
      ]
     },
     "execution_count": 33,
     "metadata": {},
     "output_type": "execute_result"
    }
   ],
   "source": [
    "list(pothole_df)"
   ]
  },
  {
   "cell_type": "code",
   "execution_count": 36,
   "metadata": {
    "collapsed": true
   },
   "outputs": [],
   "source": [
    "csvcolumns = ['service_request_id',\n",
    "           'status',\n",
    "           'service_name',\n",
    "           'description',\n",
    "           'address',\n",
    "           'lat',\n",
    "           'long',\n",
    "           'time_dif',\n",
    "           'response_seconds']"
   ]
  },
  {
   "cell_type": "code",
   "execution_count": 37,
   "metadata": {},
   "outputs": [],
   "source": [
    "pothole_df.to_csv(\"clean_pothole_data.csv\", columns=csvcolumns)"
   ]
  },
  {
   "cell_type": "code",
   "execution_count": null,
   "metadata": {
    "collapsed": true
   },
   "outputs": [],
   "source": []
  }
 ],
 "metadata": {
  "kernelspec": {
   "display_name": "Python 3",
   "language": "python",
   "name": "python3"
  },
  "language_info": {
   "codemirror_mode": {
    "name": "ipython",
    "version": 3
   },
   "file_extension": ".py",
   "mimetype": "text/x-python",
   "name": "python",
   "nbconvert_exporter": "python",
   "pygments_lexer": "ipython3",
   "version": "3.6.3"
  }
 },
 "nbformat": 4,
 "nbformat_minor": 2
}
